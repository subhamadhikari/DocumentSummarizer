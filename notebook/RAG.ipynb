{
 "cells": [
  {
   "cell_type": "code",
   "execution_count": 1,
   "metadata": {},
   "outputs": [],
   "source": [
    "from langchain import hub\n",
    "from langchain.text_splitter import RecursiveCharacterTextSplitter\n",
    "from langchain_community.vectorstores import Chroma\n",
    "from langchain_core.prompts import ChatPromptTemplate\n",
    "from langchain_core.output_parsers import StrOutputParser\n",
    "from langchain_core.runnables import RunnablePassthrough\n",
    "from langchain_openai import ChatOpenAI, OpenAIEmbeddings\n",
    "from langchain_community.llms import Ollama\n",
    "from langchain_community.embeddings import OllamaEmbeddings\n",
    "from langchain_community.document_loaders import PyPDFLoader\n",
    "from langchain.chains.combine_documents import create_stuff_documents_chain\n",
    "from langchain.chains import create_retrieval_chain"
   ]
  },
  {
   "cell_type": "code",
   "execution_count": 2,
   "metadata": {},
   "outputs": [],
   "source": [
    "import os\n",
    "from dotenv import load_dotenv"
   ]
  },
  {
   "cell_type": "code",
   "execution_count": 3,
   "metadata": {},
   "outputs": [
    {
     "data": {
      "text/plain": [
       "True"
      ]
     },
     "execution_count": 3,
     "metadata": {},
     "output_type": "execute_result"
    }
   ],
   "source": [
    "load_dotenv()"
   ]
  },
  {
   "cell_type": "code",
   "execution_count": 4,
   "metadata": {},
   "outputs": [],
   "source": [
    "os.environ['LANGCHAIN_TRACING_V2'] = 'true'\n",
    "os.environ['LANGCHAIN_ENDPOINT'] = 'https://api.smith.langchain.com'\n",
    "os.environ['LANGCHAIN_API_KEY'] = os.getenv(\"LANGCHAIN_API_KEY\")\n",
    "os.environ['OPENAI_API_KEY'] =  os.getenv(\"OPENAI_API_KEY\")"
   ]
  },
  {
   "cell_type": "markdown",
   "metadata": {},
   "source": [
    "# Loading Document"
   ]
  },
  {
   "cell_type": "code",
   "execution_count": 13,
   "metadata": {},
   "outputs": [
    {
     "name": "stderr",
     "output_type": "stream",
     "text": [
      "<>:1: SyntaxWarning: invalid escape sequence '\\i'\n",
      "<>:1: SyntaxWarning: invalid escape sequence '\\i'\n",
      "C:\\Users\\DELL\\AppData\\Local\\Temp\\ipykernel_14840\\2659302263.py:1: SyntaxWarning: invalid escape sequence '\\i'\n",
      "  document = PyPDFLoader(\"D:\\internship\\Verisk\\DocumentSummarizer\\document.pdf\")\n"
     ]
    }
   ],
   "source": [
    "document = PyPDFLoader(\"D:\\internship\\Verisk\\DocumentSummarizer\\document.pdf\")\n",
    "pages = document.load_and_split()\n"
   ]
  },
  {
   "cell_type": "code",
   "execution_count": 14,
   "metadata": {},
   "outputs": [
    {
     "data": {
      "text/plain": [
       "Document(metadata={'source': 'D:\\\\internship\\\\Verisk\\\\DocumentSummarizer\\\\document.pdf', 'page': 0}, page_content='Subham Adhikari  \\nBhadrabas -04, Kageshwori Manohara, Kathmandu  \\nsubhamadhikari7@gmail.com • + 977 -974842596 4  \\nGitHub: github.com /subhamadhikari  \\n \\nEDUCATION  \\nIslington College          (2022 -2025)  \\nB.Sc. (hons) Computing with AI  \\n• Completed the first year achieving grade A in every module  (Robotics & IOT, Fundamentals of \\nComputing, Programming, Calculus & Linear Algebra) . \\n• During the second year I completed the modules: Software Engineering, Data Structure and \\nSpecialist Programming, Database , Further Calculus, Probability & Statistics, Data Science  \\nRelevant Coursework  \\n• Java Swing GUI Application:  Developed a graphical user interface (GUI) based banking application \\nusing Java Swing, simulating banking operations like account management and transaction \\nprocessing.  \\n• TravelHaunt - Full Stack Web Application:  Designed and implemented a full -stack application \\nusing JSP and SQL. The project facilitated room hosting and booking services, with dynamic user \\ninteraction and secure data handling.  \\n• Python Terminal Stock Management System:  Created a terminal -based Python application to \\nefficiently manage and track inventory levels, with features for updating, adding, and removing stock \\nitems.  \\nRelevant Courses  \\nMIT OCW:  \\n•  Linear Algebra  (18.06)    • Multivariable Calculus (18.02)  \\n•  Differential Equation  (18.03)  \\nHarvard  Open Courses : \\n• STAT -110      • CS-50 \\n \\n \\nPROJECTS  \\n• MERN stack application  \\n❖ Created a role -based application for sample e -commerce app.  \\n❖ Used Express.js to create middleware for authentication and created api’s  \\n❖ Prepared the dashboard for admin, to display the ordered items.  \\n• Human Emotion Detection Project  \\n❖ Explored  various techniques of data augmentation, data visualization and data preparation.  \\n❖ Learned  about  how deep neural networks  are created with various layers: input layer, \\nconvolution layer,  pooling layer and output layer.  \\n❖ Implemented LeNet and ResNet model for human emotion detection.  \\n• Temperature & Humidity Monitoring System  \\n❖ Gained the understanding of how the sensor operates with the micro -controller and the process \\nof ADC conversion.  \\n❖ Learned  about Arduino micro -controller and programming procedure of the Arduino.  \\n❖ Implemented a system utilizing  Arduino, temperature, and humidity sensors to monitor and \\ntransmit temperature and humidity data to the cloud .')"
      ]
     },
     "execution_count": 14,
     "metadata": {},
     "output_type": "execute_result"
    }
   ],
   "source": [
    "pages[0]"
   ]
  },
  {
   "cell_type": "code",
   "execution_count": 15,
   "metadata": {},
   "outputs": [],
   "source": [
    "text = document.load()"
   ]
  },
  {
   "cell_type": "code",
   "execution_count": 16,
   "metadata": {},
   "outputs": [],
   "source": [
    "text_splitter = RecursiveCharacterTextSplitter(chunk_size=1200,chunk_overlap=300)\n",
    "splitted_doc = text_splitter.split_documents(text)"
   ]
  },
  {
   "cell_type": "code",
   "execution_count": 17,
   "metadata": {},
   "outputs": [
    {
     "data": {
      "text/plain": [
       "5"
      ]
     },
     "execution_count": 17,
     "metadata": {},
     "output_type": "execute_result"
    }
   ],
   "source": [
    "len(splitted_doc)"
   ]
  },
  {
   "cell_type": "markdown",
   "metadata": {},
   "source": [
    "# Embedding and Vector Store"
   ]
  },
  {
   "cell_type": "code",
   "execution_count": 19,
   "metadata": {},
   "outputs": [],
   "source": [
    "ollama_emb = OllamaEmbeddings(\n",
    "    model=\"gemma2:2b\",\n",
    ")\n",
    "vector_store = Chroma.from_documents(documents=splitted_doc,embedding=ollama_emb)\n",
    "# vector_store = Chroma.from_documents(documents=splitted_doc,embedding=OpenAIEmbeddings())"
   ]
  },
  {
   "cell_type": "markdown",
   "metadata": {},
   "source": []
  },
  {
   "cell_type": "code",
   "execution_count": 21,
   "metadata": {},
   "outputs": [
    {
     "data": {
      "text/plain": [
       "'Subham Adhikari  \\nBhadrabas -04, Kageshwori Manohara, Kathmandu  \\nsubhamadhikari7@gmail.com • + 977 -974842596 4  \\nGitHub: github.com /subhamadhikari  \\n \\nEDUCATION  \\nIslington College          (2022 -2025)  \\nB.Sc. (hons) Computing with AI  \\n• Completed the first year achieving grade A in every module  (Robotics & IOT, Fundamentals of \\nComputing, Programming, Calculus & Linear Algebra) . \\n• During the second year I completed the modules: Software Engineering, Data Structure and \\nSpecialist Programming, Database , Further Calculus, Probability & Statistics, Data Science  \\nRelevant Coursework  \\n• Java Swing GUI Application:  Developed a graphical user interface (GUI) based banking application \\nusing Java Swing, simulating banking operations like account management and transaction \\nprocessing.  \\n• TravelHaunt - Full Stack Web Application:  Designed and implemented a full -stack application \\nusing JSP and SQL. The project facilitated room hosting and booking services, with dynamic user \\ninteraction and secure data handling.  \\n• Python Terminal Stock Management System:  Created a terminal -based Python application to'"
      ]
     },
     "execution_count": 21,
     "metadata": {},
     "output_type": "execute_result"
    }
   ],
   "source": [
    "question = \"What are the mentioned projects\"\n",
    "result = vector_store.similarity_search(question)\n",
    "result[0].page_content\n",
    "# result"
   ]
  },
  {
   "cell_type": "markdown",
   "metadata": {},
   "source": [
    "## Chain and Retrievals"
   ]
  },
  {
   "cell_type": "code",
   "execution_count": 22,
   "metadata": {},
   "outputs": [],
   "source": [
    "# llm = ChatOpenAI(model_name=\"gpt-3.5-turbo\",temperature=0) # temperature-0 : applying softmax and random sampling\n",
    "llm = Ollama(model=\"gemma2:2b\")"
   ]
  },
  {
   "cell_type": "code",
   "execution_count": 23,
   "metadata": {},
   "outputs": [],
   "source": [
    "template = \"\"\"\n",
    "Answer the given question based only on the given context\n",
    "context: {context},\n",
    "\n",
    "If you find anything outside of the context reply that you are unable to do so, just request the user to \n",
    "ask proper question.\n",
    "\n",
    "question: {question}\n",
    "\"\"\"\n",
    "prompt =  ChatPromptTemplate.from_template(template)"
   ]
  },
  {
   "cell_type": "code",
   "execution_count": 24,
   "metadata": {},
   "outputs": [],
   "source": [
    "document_chain = create_stuff_documents_chain(llm,prompt)"
   ]
  },
  {
   "cell_type": "code",
   "execution_count": 25,
   "metadata": {},
   "outputs": [],
   "source": [
    "retriever = vector_store.as_retriever()\n",
    "retrieval_chain = create_retrieval_chain(retriever,document_chain)"
   ]
  },
  {
   "cell_type": "code",
   "execution_count": 26,
   "metadata": {},
   "outputs": [],
   "source": [
    "question = \"Give me 1 project to add in the document\""
   ]
  },
  {
   "cell_type": "code",
   "execution_count": 27,
   "metadata": {},
   "outputs": [
    {
     "name": "stderr",
     "output_type": "stream",
     "text": [
      "c:\\Users\\DELL\\rag_env\\Lib\\site-packages\\langchain_core\\_api\\deprecation.py:139: LangChainDeprecationWarning: The method `BaseRetriever.get_relevant_documents` was deprecated in langchain-core 0.1.46 and will be removed in 0.3.0. Use invoke instead.\n",
      "  warn_deprecated(\n"
     ]
    },
    {
     "data": {
      "text/plain": [
       "\"Based on the provided text, here is a project mentioned within the document:  \\n* **Temperature & Humidity Monitoring System**\\n\\nLet me know if you'd like to explore other projects or details! \\n\""
      ]
     },
     "execution_count": 27,
     "metadata": {},
     "output_type": "execute_result"
    }
   ],
   "source": [
    "chain = prompt | llm\n",
    "response = chain.invoke({\"context\":retriever.get_relevant_documents(question),\"question\":question})"
   ]
  },
  {
   "cell_type": "code",
   "execution_count": 28,
   "metadata": {},
   "outputs": [
    {
     "data": {
      "text/plain": [
       "\"Based on the provided text, here is a project mentioned within the document:  \\n* **Temperature & Humidity Monitoring System**\\n\\nLet me know if you'd like to explore other projects or details! \\n\""
      ]
     },
     "execution_count": 28,
     "metadata": {},
     "output_type": "execute_result"
    }
   ],
   "source": [
    "response"
   ]
  },
  {
   "cell_type": "markdown",
   "metadata": {},
   "source": [
    "## Conversational Memory"
   ]
  },
  {
   "cell_type": "code",
   "execution_count": 29,
   "metadata": {},
   "outputs": [],
   "source": [
    "from langchain.chains import create_history_aware_retriever\n",
    "from langchain_core.prompts import MessagesPlaceholder\n",
    "from langchain.chains.combine_documents import create_stuff_documents_chain\n",
    "from langchain_core.chat_history import BaseChatMessageHistory\n",
    "from langchain_community.chat_message_histories import ChatMessageHistory\n",
    "from langchain_core.runnables.history import RunnableWithMessageHistory"
   ]
  },
  {
   "cell_type": "code",
   "execution_count": 30,
   "metadata": {},
   "outputs": [],
   "source": [
    "system_prompt = (\n",
    "    \"You are an assistant for question-answering tasks. \"\n",
    "    \"Use the following pieces of retrieved context to answer \"\n",
    "    \"the question. If the answer is not available in the retrieved context. Just give relevant message that you are unable to do so. Use three sentences maximum and keep the \"\n",
    "    \"answer concise.\"\n",
    "    \"\\n\\n\"\n",
    "    \"{context}\"\n",
    ")\n",
    "contextualize_q_system_prompt = (\n",
    "    \"Given a chat history, and the latest user question \"\n",
    "    \"which might reference context in the chat history AND PROVIDED DOCUMENT, \"\n",
    "    \"formulate a standalone question which can be understood \"\n",
    "    \"without the chat history. Do NOT answer the question, \"\n",
    "    \"just reformulate it if needed and otherwise return it as is.\"\n",
    ")\n",
    "contextualize_q_prompt = ChatPromptTemplate.from_messages(\n",
    "    [\n",
    "        (\"system\", contextualize_q_system_prompt),\n",
    "        MessagesPlaceholder(\"chat_history\"),\n",
    "        (\"human\", \"{input}\"),\n",
    "    ]\n",
    ")\n",
    "history_aware_retriever = create_history_aware_retriever(\n",
    "    llm, retriever, contextualize_q_prompt\n",
    ")"
   ]
  },
  {
   "cell_type": "code",
   "execution_count": 31,
   "metadata": {},
   "outputs": [],
   "source": [
    "qa_prompt = ChatPromptTemplate.from_messages(\n",
    "    [\n",
    "        (\"system\", system_prompt),\n",
    "        MessagesPlaceholder(\"chat_history\"),\n",
    "        (\"human\", \"{input}\"),\n",
    "        \n",
    "    ]\n",
    ")\n",
    "question_answer_chain = create_stuff_documents_chain(llm, qa_prompt)\n",
    "rag_chain = create_retrieval_chain(history_aware_retriever, question_answer_chain)"
   ]
  },
  {
   "cell_type": "code",
   "execution_count": 32,
   "metadata": {},
   "outputs": [],
   "source": [
    "store = {}\n",
    "\n",
    "\n",
    "def get_session_history(session_id: str) -> BaseChatMessageHistory:\n",
    "    if session_id not in store:\n",
    "        store[session_id] = ChatMessageHistory()\n",
    "    return store[session_id]\n",
    "\n",
    "\n",
    "conversational_rag_chain = RunnableWithMessageHistory(\n",
    "    rag_chain,\n",
    "    get_session_history,\n",
    "    input_messages_key=\"input\",\n",
    "    history_messages_key=\"chat_history\",\n",
    "    output_messages_key=\"answer\",\n",
    ")"
   ]
  },
  {
   "cell_type": "code",
   "execution_count": 34,
   "metadata": {},
   "outputs": [
    {
     "data": {
      "text/plain": [
       "'The mentioned projects include a MERN stack application, Human Emotion Detection Project, Temperature & Humidity Monitoring System, and Python Terminal Stock Management System. \\n'"
      ]
     },
     "execution_count": 34,
     "metadata": {},
     "output_type": "execute_result"
    }
   ],
   "source": [
    "conversational_rag_chain.invoke(\n",
    "    {\"input\": \"What are the mentioned projects\"},\n",
    "    config={\n",
    "        \"configurable\": {\"session_id\": \"abc123\"}\n",
    "    },  # constructs a key \"abc123\" in `store`.\n",
    ")[\"answer\"]"
   ]
  },
  {
   "cell_type": "code",
   "execution_count": 35,
   "metadata": {},
   "outputs": [
    {
     "data": {
      "text/plain": [
       "'You could explore projects related to web development, AI/machine learning, or data analysis.  For example, you could create a chatbot or develop an image recognition system.   \\n\\n\\n'"
      ]
     },
     "execution_count": 35,
     "metadata": {},
     "output_type": "execute_result"
    }
   ],
   "source": [
    "conversational_rag_chain.invoke(\n",
    "    {\"input\": \"Recommend what additional project can i add\"},\n",
    "    config={\"configurable\": {\"session_id\": \"abc123\"}},\n",
    ")[\"answer\"]"
   ]
  },
  {
   "cell_type": "code",
   "execution_count": 36,
   "metadata": {},
   "outputs": [
    {
     "data": {
      "text/plain": [
       "\"The provided text details Subham Adhikari's skills and academic background in the areas of software engineering, programming, data science, and AI. \\n\\nIt highlights his expertise in various technologies including Python, JavaScript, ReactJS, Express.js, TensorFlow, MongoDB, and Firebase along with database tools like SQL and OracleDB.  \\n\""
      ]
     },
     "execution_count": 36,
     "metadata": {},
     "output_type": "execute_result"
    }
   ],
   "source": [
    "conversational_rag_chain.invoke(\n",
    "    {\"input\": \"Give me something different\"},\n",
    "    config={\"configurable\": {\"session_id\": \"abc123\"}},\n",
    ")[\"answer\"]"
   ]
  },
  {
   "cell_type": "code",
   "execution_count": null,
   "metadata": {},
   "outputs": [],
   "source": []
  }
 ],
 "metadata": {
  "kernelspec": {
   "display_name": "rag_env",
   "language": "python",
   "name": "python3"
  },
  "language_info": {
   "codemirror_mode": {
    "name": "ipython",
    "version": 3
   },
   "file_extension": ".py",
   "mimetype": "text/x-python",
   "name": "python",
   "nbconvert_exporter": "python",
   "pygments_lexer": "ipython3",
   "version": "3.12.2"
  }
 },
 "nbformat": 4,
 "nbformat_minor": 2
}
