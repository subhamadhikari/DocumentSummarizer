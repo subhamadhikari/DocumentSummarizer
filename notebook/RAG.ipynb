{
 "cells": [
  {
   "cell_type": "code",
   "execution_count": 11,
   "metadata": {},
   "outputs": [],
   "source": [
    "from langchain import hub\n",
    "from langchain.text_splitter import RecursiveCharacterTextSplitter\n",
    "from langchain_community.vectorstores import Chroma\n",
    "from langchain_core.prompts import ChatPromptTemplate\n",
    "from langchain_core.output_parsers import StrOutputParser\n",
    "from langchain_core.runnables import RunnablePassthrough\n",
    "from langchain_openai import ChatOpenAI, OpenAIEmbeddings\n",
    "from langchain_community.document_loaders import PyPDFLoader"
   ]
  },
  {
   "cell_type": "code",
   "execution_count": 12,
   "metadata": {},
   "outputs": [],
   "source": [
    "import os\n",
    "from dotenv import load_dotenv"
   ]
  },
  {
   "cell_type": "code",
   "execution_count": 13,
   "metadata": {},
   "outputs": [
    {
     "data": {
      "text/plain": [
       "True"
      ]
     },
     "execution_count": 13,
     "metadata": {},
     "output_type": "execute_result"
    }
   ],
   "source": [
    "load_dotenv()"
   ]
  },
  {
   "cell_type": "code",
   "execution_count": 14,
   "metadata": {},
   "outputs": [],
   "source": [
    "os.environ['LANGCHAIN_TRACING_V2'] = 'true'\n",
    "os.environ['LANGCHAIN_ENDPOINT'] = 'https://api.smith.langchain.com'\n",
    "os.environ['LANGCHAIN_API_KEY'] = os.getenv(\"LANGCHAIN_API_KEY\")\n",
    "os.environ['OPENAI_API_KEY'] =  os.getenv(\"OPENAI_API_KEY\")"
   ]
  },
  {
   "cell_type": "markdown",
   "metadata": {},
   "source": [
    "# Loading Document"
   ]
  },
  {
   "cell_type": "code",
   "execution_count": 28,
   "metadata": {},
   "outputs": [
    {
     "name": "stderr",
     "output_type": "stream",
     "text": [
      "<>:1: SyntaxWarning: invalid escape sequence '\\i'\n",
      "<>:1: SyntaxWarning: invalid escape sequence '\\i'\n",
      "C:\\Users\\DELL\\AppData\\Local\\Temp\\ipykernel_6376\\2659302263.py:1: SyntaxWarning: invalid escape sequence '\\i'\n",
      "  document = PyPDFLoader(\"D:\\internship\\Verisk\\DocumentSummarizer\\document.pdf\")\n"
     ]
    }
   ],
   "source": [
    "document = PyPDFLoader(\"D:\\internship\\Verisk\\DocumentSummarizer\\document.pdf\")\n",
    "pages = document.load_and_split()\n"
   ]
  },
  {
   "cell_type": "code",
   "execution_count": 30,
   "metadata": {},
   "outputs": [
    {
     "data": {
      "text/plain": [
       "Document(metadata={'source': 'D:\\\\internship\\\\Verisk\\\\DocumentSummarizer\\\\document.pdf', 'page': 0}, page_content='Computer Science I\\nDr. Chris Bourke\\ncbourke@cse.unl.edu\\nDepartment of Computer Science & Engineering\\nUniversity of Nebraska–Lincoln\\nLincoln, NE 68588, USA\\n2018/08/09 16:16:18\\nVersion 1.3.6\\nφεψεΥδγγΩΨΓφΓ κ\\nξ\\nγ\\nχ\\nψ\\nΞ\\nθ\\nρ\\nψ\\nϑ\\nΨ\\nΥ\\nϵ\\n∆\\nγ\\nκ\\nσ\\nΓ\\nπ\\nψ\\nχ\\nΓ\\nω\\nχ\\nβ ∆πΛΨυ∆ϖχΞϱϑϕ')"
      ]
     },
     "execution_count": 30,
     "metadata": {},
     "output_type": "execute_result"
    }
   ],
   "source": [
    "pages[0]"
   ]
  },
  {
   "cell_type": "code",
   "execution_count": 31,
   "metadata": {},
   "outputs": [],
   "source": [
    "text = document.load()"
   ]
  },
  {
   "cell_type": "code",
   "execution_count": 35,
   "metadata": {},
   "outputs": [],
   "source": [
    "text_splitter = RecursiveCharacterTextSplitter(chunk_size=1200,chunk_overlap=300)\n",
    "splitted_doc = text_splitter.split_documents(text)"
   ]
  },
  {
   "cell_type": "code",
   "execution_count": 37,
   "metadata": {},
   "outputs": [
    {
     "data": {
      "text/plain": [
       "1231"
      ]
     },
     "execution_count": 37,
     "metadata": {},
     "output_type": "execute_result"
    }
   ],
   "source": [
    "len(splitted_doc)"
   ]
  },
  {
   "cell_type": "markdown",
   "metadata": {},
   "source": [
    "# Embedding and Vector Store"
   ]
  },
  {
   "cell_type": "code",
   "execution_count": 38,
   "metadata": {},
   "outputs": [],
   "source": [
    "vector_store = Chroma.from_documents(documents=splitted_doc,embedding=OpenAIEmbeddings())"
   ]
  },
  {
   "cell_type": "markdown",
   "metadata": {},
   "source": []
  },
  {
   "cell_type": "code",
   "execution_count": 47,
   "metadata": {},
   "outputs": [
    {
     "data": {
      "text/plain": [
       "[Document(metadata={'page': 23, 'source': 'D:\\\\internship\\\\Verisk\\\\DocumentSummarizer\\\\document.pdf'}, page_content='Contents\\nIndex 610\\nReferences 613\\nxxii'),\n",
       " Document(metadata={'page': 4, 'source': 'D:\\\\internship\\\\Verisk\\\\DocumentSummarizer\\\\document.pdf'}, page_content='Draft Notice\\nThis book is a draft that has been released for evaluation and comment. Some of the later\\nchapters are included as placeholders and indicators for the intended scope of the ﬁnal\\ndraft, but are intentionally left blank. The author encourages people to send feedback\\nincluding suggestions, corrections, and reviews to inform and inﬂuence the ﬁnal draft.\\nThank you in advance to anyone helping out or sending constructive criticisms.\\niii'),\n",
       " Document(metadata={'page': 2, 'source': 'D:\\\\internship\\\\Verisk\\\\DocumentSummarizer\\\\document.pdf'}, page_content='Copyleft (Copyright)\\nThe entirety of this book is free and is released under a Creative Commons Attribution-\\nShareAlike 4.0 International License (seehttp://creativecommons.org/licenses/\\nby-sa/4.0/ for details).\\ni'),\n",
       " Document(metadata={'page': 12, 'source': 'D:\\\\internship\\\\Verisk\\\\DocumentSummarizer\\\\document.pdf'}, page_content='Contents\\nCopyleft (Copyright) i\\nDraft Notice iii\\nPreface v\\nAcknowledgements ix\\n1. Introduction 1\\n1.1. Problem Solving . . . . . . . . . . . . . . . . . . . . . . . . . . . . . . . . 2\\n1.2. Computing Basics . . . . . . . . . . . . . . . . . . . . . . . . . . . . . . . 4\\n1.3. Basic Program Structure . . . . . . . . . . . . . . . . . . . . . . . . . . . 5\\n1.4. Syntax Rules & Pseudocode . . . . . . . . . . . . . . . . . . . . . . . . . 12\\n1.5. Documentation, Comments, and Coding Style . . . . . . . . . . . . . . . 14\\n2. Basics 17\\n2.1. Control Flow . . . . . . . . . . . . . . . . . . . . . . . . . . . . . . . . . 17\\n2.1.1. Flowcharts . . . . . . . . . . . . . . . . . . . . . . . . . . . . . . . 17\\n2.2. Variables . . . . . . . . . . . . . . . . . . . . . . . . . . . . . . . . . . . . 18\\n2.2.1. Naming Rules & Conventions . . . . . . . . . . . . . . . . . . . . 19\\n2.2.2. Types . . . . . . . . . . . . . . . . . . . . . . . . . . . . . . . . . 22\\n2.2.3. Declaring Variables: Dynamic vs. Static Typing . . . . . . . . . . 31\\n2.2.4. Scoping . . . . . . . . . . . . . . . . . . . . . . . . . . . . . . . . 32\\n2.3. Operators . . . . . . . . . . . . . . . . . . . . . . . . . . . . . . . . . . . 33')]"
      ]
     },
     "execution_count": 47,
     "metadata": {},
     "output_type": "execute_result"
    }
   ],
   "source": [
    "question = \"Who are the contents of this document?\"\n",
    "result = vector_store.similarity_search(question)\n",
    "# result[0].page_content\n",
    "result"
   ]
  }
 ],
 "metadata": {
  "kernelspec": {
   "display_name": "rag_env",
   "language": "python",
   "name": "python3"
  },
  "language_info": {
   "codemirror_mode": {
    "name": "ipython",
    "version": 3
   },
   "file_extension": ".py",
   "mimetype": "text/x-python",
   "name": "python",
   "nbconvert_exporter": "python",
   "pygments_lexer": "ipython3",
   "version": "3.12.2"
  }
 },
 "nbformat": 4,
 "nbformat_minor": 2
}
